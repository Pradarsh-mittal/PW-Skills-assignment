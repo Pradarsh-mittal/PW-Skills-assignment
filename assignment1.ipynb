{
  "metadata": {
    "kernelspec": {
      "name": "xpython",
      "display_name": "Python 3.13 (XPython)",
      "language": "python"
    },
    "language_info": {
      "file_extension": ".py",
      "mimetype": "text/x-python",
      "name": "python",
      "version": "3.13.1"
    }
  },
  "nbformat_minor": 5,
  "nbformat": 4,
  "cells": [
    {
      "id": "12aa3e29-9b7b-458a-b30d-86969ef14b2d",
      "cell_type": "code",
      "source": "print(\"hello\")",
      "metadata": {
        "trusted": true
      },
      "outputs": [
        {
          "name": "stdout",
          "output_type": "stream",
          "text": "hello\n"
        }
      ],
      "execution_count": 1
    },
    {
      "id": "4f542b59-8319-4e75-b282-9cff0be1cc80",
      "cell_type": "code",
      "source": "# 1. Python is a high-level, interpreted programming language known for its simplicity and\n# readability. It’s popular because of its huge libraries, community support, and\n# versatility in fields like AI, web, and data science.",
      "metadata": {
        "trusted": true
      },
      "outputs": [],
      "execution_count": null
    },
    {
      "id": "7c68a7d3-116a-43fb-bdc0-f2c40e3c4d55",
      "cell_type": "code",
      "source": "# 2. An interpreter executes Python code line by line, converting it into\n# machine-understandable instructions.",
      "metadata": {
        "trusted": true
      },
      "outputs": [],
      "execution_count": null
    },
    {
      "id": "b7675401-81fd-48d4-915e-63b5043eeb66",
      "cell_type": "code",
      "source": "# 3. Keywords are reserved words with special meaning (e.g., if, for, class). They\n# cannot be used as variable names.",
      "metadata": {
        "trusted": true
      },
      "outputs": [],
      "execution_count": 2
    },
    {
      "id": "cceb08a0-f14e-4fb1-b3cc-2d6d1d039c51",
      "cell_type": "raw",
      "source": "4. No, because keywords are reserved by Python and will cause a syntax error if used\nas variables.",
      "metadata": {}
    },
    {
      "id": "746d45e2-9511-426e-a717-999633196a58",
      "cell_type": "raw",
      "source": "5. Mutability means whether an object’s content can be changed after creation",
      "metadata": {}
    },
    {
      "id": "66814533-86f4-4f94-ae8e-4948ea46f682",
      "cell_type": "raw",
      "source": "6. Lists can be modified (add, remove, update elements), but tuples are fixed in size\nand values once created.\n7. == checks if values are equal, while is checks if two variables point to the same\nmemory location (identity).\n8. Logical operators are and, or, not used to combine conditional expressions.\n9. Type casting is converting one data type into another, like int(\"5\") → 5.\n10. Implicit: Python automatically converts (e.g., int + float → float).\nExplicit: Programmer manually converts using functions like int(), float().\n11. They help execute code blocks based on conditions (decision making).\n12. elif checks multiple conditions sequentially; the first true block executes, others are\nskipped.\n13. for: Iterates over a sequence or range with known iterations.\nwhile: Repeats until a condition becomes false\n14. When the nu",
      "metadata": {}
    },
    {
      "id": "8af3c114-f345-4483-8701-de9d4079e429",
      "cell_type": "code",
      "source": "",
      "metadata": {
        "trusted": true
      },
      "outputs": [],
      "execution_count": null
    },
    {
      "id": "45f14789-6ecd-45fe-bc47-b3f9865f74d8",
      "cell_type": "code",
      "source": "\nprint(\"Hello, World!\")",
      "metadata": {
        "trusted": true
      },
      "outputs": [
        {
          "name": "stdout",
          "output_type": "stream",
          "text": "Hello, World!\n"
        }
      ],
      "execution_count": 7
    },
    {
      "id": "e041f5ee-5b7e-4085-b884-555d08accfe5",
      "cell_type": "code",
      "source": "print(\"Name = Pradarsh Mittal\")\nprint(\"Age = 19\")\nname = \"Pradarsh Mittal\"\nage = 19\nprint(f\"Name - {name}\")\nprint(f\"Age - {age}\")",
      "metadata": {
        "trusted": true
      },
      "outputs": [
        {
          "name": "stdout",
          "output_type": "stream",
          "text": "Name = Pradarsh Mittal\nAge = 19\nName - Pradarsh Mittal\nAge - 19\n"
        }
      ],
      "execution_count": 9
    },
    {
      "id": "eb6cd4b1-622c-4808-968e-08a1a05d8156",
      "cell_type": "code",
      "source": "print(help('keywords'))",
      "metadata": {
        "trusted": true
      },
      "outputs": [
        {
          "name": "stdout",
          "output_type": "stream",
          "text": "\nHere is a list of the Python keywords.  Enter any keyword to get more help.\n\nFalse               class               from                or\nNone                continue            global              pass\nTrue                def                 if                  raise\nand                 del                 import              return\nas                  elif                in                  try\nassert              else                is                  while\nasync               except              lambda              with\nawait               finally             nonlocal            yield\nbreak               for                 not                 \n\nNone\n"
        }
      ],
      "execution_count": 11
    },
    {
      "id": "818b7604-2fa0-4d7f-b766-b467b6851bb5",
      "cell_type": "code",
      "source": "import keyword\nword = input(\"Enter a word: \")\nif keyword.iskeyword(word):\n print(f\"'{word}' is a Python keyword.\")\nelse:\n print(f\"'{word}' is NOT a Python keyword.\")",
      "metadata": {
        "trusted": true
      },
      "outputs": [
        {
          "output_type": "stream",
          "name": "stdin",
          "text": "Enter a word:  if\n"
        },
        {
          "name": "stdout",
          "output_type": "stream",
          "text": "'if' is a Python keyword.\n"
        }
      ],
      "execution_count": 13
    },
    {
      "id": "7c57d9f8-5c29-450d-8412-ff63a70b0f44",
      "cell_type": "code",
      "source": "my_list = [10, 20, 30]\nprint(\"Original List:\", my_list)\nmy_list[1] = 200\nprint(\"Modified List:\", my_list)\nmy_tuple = (10, 20, 30)\nprint(\"\\nOriginal Tuple:\", my_tuple)",
      "metadata": {
        "trusted": true
      },
      "outputs": [
        {
          "name": "stdout",
          "output_type": "stream",
          "text": "Original List: [10, 20, 30]\nModified List: [10, 200, 30]\n\nOriginal Tuple: (10, 20, 30)\n"
        }
      ],
      "execution_count": 15
    },
    {
      "id": "524f0eed-11f1-4518-b739-cee65e9eeef4",
      "cell_type": "code",
      "source": "def modify(x, y):\n x = x + 5\n y[0] = y[0] + 5\n return x, y\na = 10\nb = [10, 20, 30]\nprint(\"Before:\", a, b)\nnew_a, new_b = modify(a, b)\nprint(\"After function call:\")\nprint(\"a:\", a, \"b:\", b)\nprint(\"Returned:\", new_a, new_b)",
      "metadata": {
        "trusted": true
      },
      "outputs": [
        {
          "name": "stdout",
          "output_type": "stream",
          "text": "Before: 10 [10, 20, 30]\nAfter function call:\na: 10 b: [15, 20, 30]\nReturned: 15 [15, 20, 30]\n"
        }
      ],
      "execution_count": 17
    },
    {
      "id": "725384d8-5c44-474e-a1b7-f1c12688abf6",
      "cell_type": "code",
      "source": "a = float(input(\"Enter first number: \"))\nb = float(input(\"Enter second number: \"))\nprint(\"Addition:\", a + b)\nprint(\"Subtraction:\", a - b)\nprint(\"Multiplication:\", a * b)\nprint(\"Division:\", a / b if b != 0 else \"Undefined (division by zero)\")",
      "metadata": {
        "trusted": true
      },
      "outputs": [
        {
          "output_type": "stream",
          "name": "stdin",
          "text": "Enter first number:  22\nEnter second number:  12\n"
        },
        {
          "name": "stdout",
          "output_type": "stream",
          "text": "Addition: 34.0\nSubtraction: 10.0\nMultiplication: 264.0\nDivision: 1.8333333333333333\n"
        }
      ],
      "execution_count": 20
    },
    {
      "id": "44544cab-b971-446f-8ab5-597ded849ca2",
      "cell_type": "code",
      "source": "x = True\ny = False\nprint(\"x and y:\", x and y)\nprint(\"x or y:\", x or y)\nprint(\"not x:\", not x)\nprint(\"not y:\", not y)",
      "metadata": {
        "trusted": true
      },
      "outputs": [
        {
          "name": "stdout",
          "output_type": "stream",
          "text": "x and y: False\nx or y: True\nnot x: False\nnot y: True\n"
        }
      ],
      "execution_count": 22
    },
    {
      "id": "c6b19e39-baa0-4da8-9a93-995a608c062d",
      "cell_type": "code",
      "source": "s = input(\"Enter a value: \")\ni = int(s)\nf = float(s)\nb = bool(s)\nprint(\"String:\", s)\nprint(\"Integer:\", i)\nprint(\"Float:\", f)\nprint(\"Boolean:\", b)",
      "metadata": {
        "trusted": true
      },
      "outputs": [
        {
          "output_type": "stream",
          "name": "stdin",
          "text": "Enter a value:  34\n"
        },
        {
          "name": "stdout",
          "output_type": "stream",
          "text": "String: 34\nInteger: 34\nFloat: 34.0\nBoolean: True\n"
        }
      ],
      "execution_count": 23
    },
    {
      "id": "634b926d-a123-47bd-af2d-3a0308c12545",
      "cell_type": "code",
      "source": "numbers = [\"10\", \"20\", \"30\", \"40\"]\nint_list = [int(x) for x in numbers]\nfloat_list = [float(x) for x in numbers]\nstr_list = [str(x) for x in int_list]\nprint(\"Original list:\", numbers)\nprint(\"As integers:\", int_list)\nprint(\"As floats:\", float_list)\nprint(\"Back to strings:\", str_list)\n",
      "metadata": {
        "trusted": true
      },
      "outputs": [
        {
          "name": "stdout",
          "output_type": "stream",
          "text": "Original list: ['10', '20', '30', '40']\nAs integers: [10, 20, 30, 40]\nAs floats: [10.0, 20.0, 30.0, 40.0]\nBack to strings: ['10', '20', '30', '40']\n"
        }
      ],
      "execution_count": 25
    },
    {
      "id": "8dc2105a-4105-4349-834d-7c03438685c6",
      "cell_type": "code",
      "source": "num = float(input(\"Enter a number: \"))\nif num > 0:\n print(\"The number is positive.\")\nelif num < 0:\n print(\"The number is negative.\")\nelse:\n print(\"The number is zero.\")",
      "metadata": {
        "trusted": true
      },
      "outputs": [
        {
          "output_type": "stream",
          "name": "stdin",
          "text": "Enter a number:  22\n"
        },
        {
          "name": "stdout",
          "output_type": "stream",
          "text": "The number is positive.\n"
        }
      ],
      "execution_count": 28
    },
    {
      "id": "25141cec-c2a6-4ba4-a303-9d9f79d1b89a",
      "cell_type": "code",
      "source": "for i in range(1,11):\n    print(i)\n",
      "metadata": {
        "trusted": true
      },
      "outputs": [
        {
          "name": "stdout",
          "output_type": "stream",
          "text": "1\n2\n3\n4\n5\n6\n7\n8\n9\n10\n"
        }
      ],
      "execution_count": 31
    },
    {
      "id": "f78b2bff-5b27-4529-b401-ca4b7992c9bd",
      "cell_type": "code",
      "source": "total = 0\nfor i in range(1, 51):\n if i % 2 == 0:\n     total += i\nprint(\"Sum of even numbers between 1 and 50:\", total)",
      "metadata": {
        "trusted": true
      },
      "outputs": [
        {
          "name": "stdout",
          "output_type": "stream",
          "text": "Sum of even numbers between 1 and 50: 650\n"
        }
      ],
      "execution_count": 35
    },
    {
      "id": "cd3b2611-fc02-4763-be34-86250e32bb75",
      "cell_type": "code",
      "source": "text = input(\"Enter a string: \")\nreversed_text = \"\"\ni = len(text) - 1\nwhile i >= 0:\n reversed_text += text[i]\n i -= 1\nprint(\"Reversed string:\", reversed_text)",
      "metadata": {
        "trusted": true
      },
      "outputs": [
        {
          "output_type": "stream",
          "name": "stdin",
          "text": "Enter a string:  2334\n"
        },
        {
          "name": "stdout",
          "output_type": "stream",
          "text": "Reversed string: 4332\n"
        }
      ],
      "execution_count": 36
    },
    {
      "id": "86dfe19e-6b53-461c-baab-bc7dbe1f88dc",
      "cell_type": "code",
      "source": "num = int(input(\"Enter a number: \"))\nfactorial = 1\ni = 1\nwhile i <= num:\n factorial *= i\n i += 1\nprint(\"Factorial of\", num, \"is:\", factorial)\n",
      "metadata": {
        "trusted": true
      },
      "outputs": [],
      "execution_count": null
    }
  ]
}
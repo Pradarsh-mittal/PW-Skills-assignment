{
  "nbformat": 4,
  "nbformat_minor": 0,
  "metadata": {
    "colab": {
      "provenance": [],
      "authorship_tag": "ABX9TyPNEgx9PdaMXe7KwDGG6lkk",
      "include_colab_link": true
    },
    "kernelspec": {
      "name": "python3",
      "display_name": "Python 3"
    },
    "language_info": {
      "name": "python"
    }
  },
  "cells": [
    {
      "cell_type": "markdown",
      "metadata": {
        "id": "view-in-github",
        "colab_type": "text"
      },
      "source": [
        "<a href=\"https://colab.research.google.com/github/Pradarsh-mittal/PW-Skills-assignment/blob/main/Assigemnet2.ipynb\" target=\"_parent\"><img src=\"https://colab.research.google.com/assets/colab-badge.svg\" alt=\"Open In Colab\"/></a>"
      ]
    },
    {
      "cell_type": "code",
      "source": [
        "#1. What are data structures, and why are they important?\n",
        "# Data structures organize and store data efficiently. They are important because they improve performance and make problem-solving easier.\n",
        "\n",
        "# 2. Difference between mutable and immutable data types with examples\n",
        "# Mutable types (e.g., list, dict) can be changed after creation. Immutable types (e.g., tuple, str) cannot be modified.\n",
        "\n",
        "# 3. Main differences between lists and tuples in Python\n",
        "# Lists are mutable and slower but flexible. Tuples are immutable, faster, and often used for fixed data.\n",
        "\n",
        "# 4. How dictionaries store data\n",
        "# Dictionaries store data as key–value pairs using hash tables for fast lookups.\n",
        "\n",
        "# 5. Why use a set instead of a list in Python\n",
        "# Sets automatically remove duplicates and provide faster membership tests.\n",
        "\n",
        "# 6. What is a string in Python, and how is it different from a list\n",
        "# A string is an immutable sequence of characters. A list is mutable and can hold different data types.\n",
        "\n",
        "# 7. How tuples ensure data integrity in Python\n",
        "# Tuples are immutable, so their values cannot be altered accidentally.\n",
        "\n",
        "# 8. What is a hash table, and how does it relate to dictionaries in Python\n",
        "# A hash table maps keys to values via a hash function. Python dictionaries use hash tables internally.\n",
        "\n",
        "# 9. Can lists contain different data types in Python?\n",
        "# Yes, a list can store integers, strings, floats, and even other lists.\n",
        "\n",
        "# 10. Why strings are immutable in Python\n",
        "# Immutability ensures memory efficiency, caching, and safer data handling.\n",
        "\n",
        "# 11. Advantages dictionaries offer over lists\n",
        "# Dictionaries provide fast key-based lookups, while lists require searching by index or value.\n",
        "\n",
        "# 12. How sets handle duplicate values in Python\n",
        "# Sets automatically discard duplicate elements, keeping only unique values.\n",
        "\n",
        "# 13. Scenario where tuple is preferable over a list\n",
        "# When storing fixed data like coordinates (x, y) or days of the week, tuples are better.\n",
        "\n",
        "# 14. How the “in” keyword works differently for lists and dictionaries\n",
        "# For lists, in checks values. For dictionaries, in checks keys.\n",
        "\n",
        "# 15. Can you modify elements of a tuple? Explain why or why not\n",
        "# No, tuples are immutable, so once created, their elements cannot change.\n",
        "\n",
        "# 16. What is a nested dictionary, and example use case\n",
        "# A nested dictionary is a dictionary inside another, e.g., { \"student\": {\"name\": \"John\", \"age\": 20} }. Used for structured data.\n",
        "\n",
        "# 17. Time complexity of accessing elements in a dictionary\n",
        "# Average case is O(1) due to hash table lookup.\n",
        "\n",
        "# 18. Situations where lists are preferred over dictionaries\n",
        "# When order matters or when storing simple sequences of items.\n",
        "\n",
        "# 19. Why dictionaries are considered unordered, and effect on retrieval\n",
        "# Keys are stored by hash, not order. Retrieval is by key, not sequence.\n",
        "\n",
        "# 20. Difference between a list and a dictionary in terms of data retrieval\n",
        "# Lists retrieve by index (position), while dictionaries retrieve by key (identifier)."
      ],
      "metadata": {
        "id": "LKob8h71B76P"
      },
      "execution_count": null,
      "outputs": []
    },
    {
      "cell_type": "code",
      "execution_count": null,
      "metadata": {
        "colab": {
          "base_uri": "https://localhost:8080/"
        },
        "id": "xcmyDeVr5fsL",
        "outputId": "38d8fe18-16fe-4727-e434-22e4ff691e16"
      },
      "outputs": [
        {
          "output_type": "stream",
          "name": "stdout",
          "text": [
            "hello\n"
          ]
        }
      ],
      "source": [
        "print(\"hello\")"
      ]
    },
    {
      "cell_type": "code",
      "source": [
        "# Write a code to create a string with your name and print it\n",
        "s = \"Pradarsh\"\n",
        "type(s)\n",
        "print(s)\n"
      ],
      "metadata": {
        "colab": {
          "base_uri": "https://localhost:8080/"
        },
        "id": "jZYJdRbM5tw8",
        "outputId": "14ee6481-c30b-41ba-8556-17323abee4ba"
      },
      "execution_count": null,
      "outputs": [
        {
          "output_type": "stream",
          "name": "stdout",
          "text": [
            "Pradarsh\n"
          ]
        }
      ]
    },
    {
      "cell_type": "code",
      "source": [
        "# Write a code to find the length of the string \"Hello World\"\n",
        "s = \"Hello World\"\n",
        "len(s)"
      ],
      "metadata": {
        "colab": {
          "base_uri": "https://localhost:8080/"
        },
        "id": "vlp64u4I87Xo",
        "outputId": "46383ff8-2986-4ea7-fc03-5f80cdf567e5"
      },
      "execution_count": null,
      "outputs": [
        {
          "output_type": "execute_result",
          "data": {
            "text/plain": [
              "11"
            ]
          },
          "metadata": {},
          "execution_count": 10
        }
      ]
    },
    {
      "cell_type": "code",
      "source": [
        "# Write a code to slice the first 3 characters from the string \"Python Programming\"\n",
        "sop = \"Python Programming\"\n",
        "print(f\"First - {sop[0]},Second - {sop[1]},Thrid - {sop[2]}\")"
      ],
      "metadata": {
        "colab": {
          "base_uri": "https://localhost:8080/"
        },
        "id": "xSOZBeOV9K_9",
        "outputId": "421da65c-f8fc-4662-c285-641812d91b53"
      },
      "execution_count": null,
      "outputs": [
        {
          "output_type": "stream",
          "name": "stdout",
          "text": [
            "First - P,Second - y,Thrid - t\n"
          ]
        }
      ]
    },
    {
      "cell_type": "code",
      "source": [
        "# Write a code to convert the string \"hello\" to uppercase\n",
        "s = \"hello\"\n",
        "s.upper()"
      ],
      "metadata": {
        "colab": {
          "base_uri": "https://localhost:8080/",
          "height": 35
        },
        "id": "GmtkxvwN-N3s",
        "outputId": "17fde0aa-e3bc-45fe-bf20-faefdd1a2051"
      },
      "execution_count": null,
      "outputs": [
        {
          "output_type": "execute_result",
          "data": {
            "text/plain": [
              "'HELLO'"
            ],
            "application/vnd.google.colaboratory.intrinsic+json": {
              "type": "string"
            }
          },
          "metadata": {},
          "execution_count": 16
        }
      ]
    },
    {
      "cell_type": "code",
      "source": [
        "# Write a code to replace the word \"apple\" with \"orange\" in the string \"I like apple\"\n",
        "s = \"I like apple\"\n",
        "s.replace(\"apple\",\"orange\")"
      ],
      "metadata": {
        "colab": {
          "base_uri": "https://localhost:8080/",
          "height": 35
        },
        "id": "8pMw2rBY-Wqq",
        "outputId": "e6f8cb0f-f821-4802-cb8f-b91f2cce3e32"
      },
      "execution_count": null,
      "outputs": [
        {
          "output_type": "execute_result",
          "data": {
            "text/plain": [
              "'I like orange'"
            ],
            "application/vnd.google.colaboratory.intrinsic+json": {
              "type": "string"
            }
          },
          "metadata": {},
          "execution_count": 19
        }
      ]
    },
    {
      "cell_type": "code",
      "source": [
        "# Write a code to create a list with numbers 1 to 5 and print it\n",
        "num = [1,2,3,4,5]\n",
        "type(num)\n",
        "num"
      ],
      "metadata": {
        "colab": {
          "base_uri": "https://localhost:8080/"
        },
        "id": "Fnag0bHY-mUm",
        "outputId": "2f38d69c-9398-4013-e35b-f9e212b42258"
      },
      "execution_count": null,
      "outputs": [
        {
          "output_type": "execute_result",
          "data": {
            "text/plain": [
              "[1, 2, 3, 4, 5]"
            ]
          },
          "metadata": {},
          "execution_count": 25
        }
      ]
    },
    {
      "cell_type": "code",
      "source": [
        "# Write a code to append the number 10 to the list [1, 2, 3, 4]\n",
        "app = [1, 2, 3, 4]\n",
        "app.append(10)\n",
        "app\n"
      ],
      "metadata": {
        "colab": {
          "base_uri": "https://localhost:8080/"
        },
        "id": "FzctgFSz_PxG",
        "outputId": "f0670bb7-3f88-42f9-b73d-96c5c9b6d36c"
      },
      "execution_count": null,
      "outputs": [
        {
          "output_type": "execute_result",
          "data": {
            "text/plain": [
              "[1, 2, 3, 4, 10]"
            ]
          },
          "metadata": {},
          "execution_count": 28
        }
      ]
    },
    {
      "cell_type": "code",
      "source": [
        "# Write a code to remove the number 3 from the list [1, 2, 3, 4, 5]\n",
        "rem = [1, 2, 3, 4, 5]\n",
        "rem.remove(3)\n",
        "rem"
      ],
      "metadata": {
        "colab": {
          "base_uri": "https://localhost:8080/"
        },
        "id": "7tXY78EE_elu",
        "outputId": "db1bb226-74f8-4f60-be2d-dbb7fef0a648"
      },
      "execution_count": null,
      "outputs": [
        {
          "output_type": "execute_result",
          "data": {
            "text/plain": [
              "[1, 2, 4, 5]"
            ]
          },
          "metadata": {},
          "execution_count": 29
        }
      ]
    },
    {
      "cell_type": "code",
      "source": [
        "# Write a code to access the second element in the list ['a', 'b', 'c', 'd']\n",
        "acce = ['a', 'b', 'c', 'd']\n",
        "acce[1]"
      ],
      "metadata": {
        "colab": {
          "base_uri": "https://localhost:8080/",
          "height": 35
        },
        "id": "_g1aPRNj_nSn",
        "outputId": "95a3592c-c5d9-4c46-e6b9-49f356df0456"
      },
      "execution_count": null,
      "outputs": [
        {
          "output_type": "execute_result",
          "data": {
            "text/plain": [
              "'b'"
            ],
            "application/vnd.google.colaboratory.intrinsic+json": {
              "type": "string"
            }
          },
          "metadata": {},
          "execution_count": 31
        }
      ]
    },
    {
      "cell_type": "code",
      "source": [
        "# Write a code to reverse the list [10, 20, 30, 40, 50]\n",
        "rev = [10, 20, 30, 40, 50]\n",
        "rev[::-1]"
      ],
      "metadata": {
        "colab": {
          "base_uri": "https://localhost:8080/"
        },
        "id": "zdzeOEYu_w8T",
        "outputId": "e923f140-da23-47a7-958e-563cf2004b59"
      },
      "execution_count": null,
      "outputs": [
        {
          "output_type": "execute_result",
          "data": {
            "text/plain": [
              "[50, 40, 30, 20, 10]"
            ]
          },
          "metadata": {},
          "execution_count": 33
        }
      ]
    },
    {
      "cell_type": "code",
      "source": [
        "# Write a code to create a tuple with the elements 100, 200, 300 and print it\n",
        "tup = (100,200,300)\n",
        "tup"
      ],
      "metadata": {
        "colab": {
          "base_uri": "https://localhost:8080/"
        },
        "id": "cAqYYki9_8NK",
        "outputId": "0ffb66e4-a446-4501-fec5-dd9ab124d69a"
      },
      "execution_count": null,
      "outputs": [
        {
          "output_type": "execute_result",
          "data": {
            "text/plain": [
              "(100, 200, 300)"
            ]
          },
          "metadata": {},
          "execution_count": 34
        }
      ]
    },
    {
      "cell_type": "code",
      "source": [
        "#  Write a code to access the second-to-last element of the tuple ('red', 'green', 'blue', 'yellow').\n",
        "ltup = ('red', 'green', 'blue', 'yellow')\n",
        "ltup[2]"
      ],
      "metadata": {
        "colab": {
          "base_uri": "https://localhost:8080/",
          "height": 35
        },
        "id": "ndEsXn3MAGe5",
        "outputId": "6df92cf4-eb82-4ba6-a08e-57205a74b80c"
      },
      "execution_count": null,
      "outputs": [
        {
          "output_type": "execute_result",
          "data": {
            "text/plain": [
              "'blue'"
            ],
            "application/vnd.google.colaboratory.intrinsic+json": {
              "type": "string"
            }
          },
          "metadata": {},
          "execution_count": 36
        }
      ]
    },
    {
      "cell_type": "code",
      "source": [
        "# Write a code to find the minimum number in the tuple (10, 20, 5, 15).\n",
        "t = (10, 20, 5, 15)\n",
        "print(min(t))\n"
      ],
      "metadata": {
        "colab": {
          "base_uri": "https://localhost:8080/"
        },
        "id": "hCkdAbnCCraH",
        "outputId": "be46d431-08cb-41dd-8ca1-8105479fc62a"
      },
      "execution_count": 1,
      "outputs": [
        {
          "output_type": "stream",
          "name": "stdout",
          "text": [
            "5\n"
          ]
        }
      ]
    },
    {
      "cell_type": "code",
      "source": [
        "# Write a code to find the index of the element \"cat\" in the tuple ('dog', 'cat', 'rabbit').\n",
        "t = ('dog', 'cat', 'rabbit')\n",
        "print(t.index(\"cat\"))\n"
      ],
      "metadata": {
        "colab": {
          "base_uri": "https://localhost:8080/"
        },
        "id": "Rs-aS8QZCxSi",
        "outputId": "adddbd4e-07f2-4f38-e632-44e3e90554cb"
      },
      "execution_count": 2,
      "outputs": [
        {
          "output_type": "stream",
          "name": "stdout",
          "text": [
            "1\n"
          ]
        }
      ]
    },
    {
      "cell_type": "code",
      "source": [
        "#  Write a code to create a tuple containing three different fruits and check if \"kiwi\" is in it.\n",
        "t = (\"apple\", \"banana\", \"mango\")\n",
        "print(\"kiwi\" in t)\n"
      ],
      "metadata": {
        "colab": {
          "base_uri": "https://localhost:8080/"
        },
        "id": "O92m4QjpC5eC",
        "outputId": "26a656f0-6a41-45bc-fb19-de197d6ef524"
      },
      "execution_count": 3,
      "outputs": [
        {
          "output_type": "stream",
          "name": "stdout",
          "text": [
            "False\n"
          ]
        }
      ]
    },
    {
      "cell_type": "code",
      "source": [
        "# Write a code to create a set with the elements 'a', 'b', 'c' and print it.\n",
        "s = {'a','b','c'}\n",
        "print(s)\n"
      ],
      "metadata": {
        "colab": {
          "base_uri": "https://localhost:8080/"
        },
        "id": "UjDTrEF0KwyD",
        "outputId": "07f25bbc-5992-4e44-948d-aff63bb855c4"
      },
      "execution_count": null,
      "outputs": [
        {
          "output_type": "stream",
          "name": "stdout",
          "text": [
            "{'a', 'c', 'b'}\n"
          ]
        }
      ]
    },
    {
      "cell_type": "code",
      "source": [
        "# Write a code to clear all elements from the set {1, 2, 3, 4, 5}.\n",
        "s = {1, 2, 3, 4, 5}\n",
        "s.clear()\n",
        "print(s)\n"
      ],
      "metadata": {
        "id": "7v7JF7xoDDSs"
      },
      "execution_count": null,
      "outputs": []
    },
    {
      "cell_type": "code",
      "source": [
        "# Write a code to remove the element 4 from the set {1, 2, 3, 4}\n",
        "cle = {1, 2, 3, 4}\n",
        "cle.remove(4)\n",
        "cle"
      ],
      "metadata": {
        "colab": {
          "base_uri": "https://localhost:8080/"
        },
        "id": "vUFlev2zOU3Z",
        "outputId": "7286f2d4-2501-42f8-e481-2da1fcbb1130"
      },
      "execution_count": null,
      "outputs": [
        {
          "output_type": "execute_result",
          "data": {
            "text/plain": [
              "{1, 2, 3}"
            ]
          },
          "metadata": {},
          "execution_count": 10
        }
      ]
    },
    {
      "cell_type": "code",
      "source": [
        "#  Write a code to find the union of two sets {1, 2, 3} and {3, 4, 5}.\n",
        "\n",
        "a = {1, 2, 3}\n",
        "b = {3, 4, 5}\n",
        "print(a | b)\n"
      ],
      "metadata": {
        "colab": {
          "base_uri": "https://localhost:8080/"
        },
        "id": "16kRl5aLDGfe",
        "outputId": "589b7d32-35af-464c-ad7c-87b21cd701a0"
      },
      "execution_count": 5,
      "outputs": [
        {
          "output_type": "stream",
          "name": "stdout",
          "text": [
            "{1, 2, 3, 4, 5}\n"
          ]
        }
      ]
    },
    {
      "cell_type": "code",
      "source": [
        "# Write a code to find the intersection of two sets {1, 2, 3} and {2, 3, 4}.\n",
        "a = {1, 2, 3}\n",
        "b = {2, 3, 4}\n",
        "print(a & b)\n"
      ],
      "metadata": {
        "colab": {
          "base_uri": "https://localhost:8080/"
        },
        "id": "KodXVjG9DPi8",
        "outputId": "e1b07d08-ff53-49c1-f7fb-eab1165e68fa"
      },
      "execution_count": 6,
      "outputs": [
        {
          "output_type": "stream",
          "name": "stdout",
          "text": [
            "{2, 3}\n"
          ]
        }
      ]
    },
    {
      "cell_type": "code",
      "source": [
        "# Write a code to create a dictionary with the keys \"name\", \"age\", and \"city\", and print it.\n",
        "d = {\"name\": \"John\", \"age\": 25, \"city\": \"NY\"}\n",
        "print(d)\n"
      ],
      "metadata": {
        "colab": {
          "base_uri": "https://localhost:8080/"
        },
        "id": "02cWqC6HDT7T",
        "outputId": "c0592c14-8967-42c6-de47-c4f5656048fb"
      },
      "execution_count": 7,
      "outputs": [
        {
          "output_type": "stream",
          "name": "stdout",
          "text": [
            "{'name': 'John', 'age': 25, 'city': 'NY'}\n"
          ]
        }
      ]
    },
    {
      "cell_type": "code",
      "source": [
        "# Write a code to add a new key-value pair \"country\": \"USA\" to the dictionary {'name': 'John', 'age': 25}.\n",
        "d = {'name': 'John', 'age': 25}\n",
        "d['country'] = 'USA'\n",
        "print(d)\n"
      ],
      "metadata": {
        "colab": {
          "base_uri": "https://localhost:8080/"
        },
        "id": "i9hmic97DX4X",
        "outputId": "25cf6b1e-9b63-4625-a0df-e905567b2788"
      },
      "execution_count": 8,
      "outputs": [
        {
          "output_type": "stream",
          "name": "stdout",
          "text": [
            "{'name': 'John', 'age': 25, 'country': 'USA'}\n"
          ]
        }
      ]
    },
    {
      "cell_type": "code",
      "source": [
        "# Write a code to access the value associated with the key \"name\" in the dictionary {'name': 'Alice', 'age': 30}.\n",
        "d = {'name': 'Alice', 'age': 30}\n",
        "print(d['name'])\n"
      ],
      "metadata": {
        "colab": {
          "base_uri": "https://localhost:8080/"
        },
        "id": "4U7izJA6Dd54",
        "outputId": "e28e4a7c-3964-438b-801e-876ae8fba160"
      },
      "execution_count": 9,
      "outputs": [
        {
          "output_type": "stream",
          "name": "stdout",
          "text": [
            "Alice\n"
          ]
        }
      ]
    },
    {
      "cell_type": "code",
      "source": [
        "# Write a code to remove the key \"age\" from the dictionary {'name': 'Bob', 'age': 22, 'city': 'New York'}.\n",
        "d = {'name': 'Bob', 'age': 22, 'city': 'New York'}\n",
        "d.pop('age')\n",
        "print(d)\n"
      ],
      "metadata": {
        "colab": {
          "base_uri": "https://localhost:8080/"
        },
        "id": "MVvH0VleDi6T",
        "outputId": "3b23fff8-8ea3-4a48-8b25-a9e3d0518358"
      },
      "execution_count": 10,
      "outputs": [
        {
          "output_type": "stream",
          "name": "stdout",
          "text": [
            "{'name': 'Bob', 'city': 'New York'}\n"
          ]
        }
      ]
    },
    {
      "cell_type": "code",
      "source": [
        "#Write a code to check if the key \"city\" exists in the dictionary {'name': 'Alice', 'city': 'Paris'}.\n",
        "d = {'name': 'Alice', 'city': 'Paris'}\n",
        "print(\"city\" in d)\n",
        "\n"
      ],
      "metadata": {
        "colab": {
          "base_uri": "https://localhost:8080/"
        },
        "id": "_4xivqZjDnXV",
        "outputId": "2566156d-944f-4408-d2c2-8d68b7ebaf0e"
      },
      "execution_count": 11,
      "outputs": [
        {
          "output_type": "stream",
          "name": "stdout",
          "text": [
            "True\n"
          ]
        }
      ]
    },
    {
      "cell_type": "code",
      "source": [
        "# Write a code to create a list, a tuple, and a dictionary, and print them all\n",
        "l = [1, 2, 3]\n",
        "t = (4, 5, 6)\n",
        "d = {\"a\": 1, \"b\": 2}\n",
        "print(l, t, d)\n",
        "\n"
      ],
      "metadata": {
        "colab": {
          "base_uri": "https://localhost:8080/"
        },
        "id": "YJcnVf4NDsK2",
        "outputId": "5323da84-ad66-490f-83e6-7968cae00491"
      },
      "execution_count": 12,
      "outputs": [
        {
          "output_type": "stream",
          "name": "stdout",
          "text": [
            "[1, 2, 3] (4, 5, 6) {'a': 1, 'b': 2}\n"
          ]
        }
      ]
    },
    {
      "cell_type": "code",
      "source": [
        "#  Write a code to create a list of 5 random numbers between 1 and 100, sort it in ascending order, and print the result.\n",
        "import random\n",
        "l = random.sample(range(1,101),5)\n",
        "l.sort()\n",
        "print(l)\n",
        "\n",
        "\n"
      ],
      "metadata": {
        "colab": {
          "base_uri": "https://localhost:8080/"
        },
        "id": "q-TtnELKDx6L",
        "outputId": "67ba90e4-d1bd-48a5-b711-a22eb6c02f04"
      },
      "execution_count": 13,
      "outputs": [
        {
          "output_type": "stream",
          "name": "stdout",
          "text": [
            "[6, 63, 74, 91, 98]\n"
          ]
        }
      ]
    },
    {
      "cell_type": "code",
      "source": [
        "# Write a code to create a list with strings and print the element at the third index.\n",
        "l = [\"a\", \"b\", \"c\", \"d\", \"e\"]\n",
        "print(l[3])\n",
        "\n"
      ],
      "metadata": {
        "colab": {
          "base_uri": "https://localhost:8080/"
        },
        "id": "b4NES87wERQr",
        "outputId": "51367778-2c9c-4d64-c010-af096af5b701"
      },
      "execution_count": 14,
      "outputs": [
        {
          "output_type": "stream",
          "name": "stdout",
          "text": [
            "d\n"
          ]
        }
      ]
    },
    {
      "cell_type": "code",
      "source": [
        "#Write a code to combine two dictionaries into one and print the result.\n",
        "d1 = {\"a\": 1, \"b\": 2}\n",
        "d2 = {\"c\": 3, \"d\": 4}\n",
        "d1.update(d2)\n",
        "print(d1)\n"
      ],
      "metadata": {
        "colab": {
          "base_uri": "https://localhost:8080/"
        },
        "id": "PWTNAvvTEUqb",
        "outputId": "05bfd1a7-f8f9-4543-dfe0-5a2a8e97d47d"
      },
      "execution_count": 15,
      "outputs": [
        {
          "output_type": "stream",
          "name": "stdout",
          "text": [
            "{'a': 1, 'b': 2, 'c': 3, 'd': 4}\n"
          ]
        }
      ]
    },
    {
      "cell_type": "code",
      "source": [
        "#Write a code to convert a list of strings into a set.\n",
        "l = [\"apple\", \"banana\", \"apple\", \"mango\"]\n",
        "s = set(l)\n",
        "print(s)\n"
      ],
      "metadata": {
        "colab": {
          "base_uri": "https://localhost:8080/"
        },
        "id": "7sqbkDZ7EY_y",
        "outputId": "3ed93f9e-d108-42b7-9087-c7271bf194dd"
      },
      "execution_count": 16,
      "outputs": [
        {
          "output_type": "stream",
          "name": "stdout",
          "text": [
            "{'banana', 'mango', 'apple'}\n"
          ]
        }
      ]
    },
    {
      "cell_type": "code",
      "source": [],
      "metadata": {
        "id": "s3lnAPstEdHM"
      },
      "execution_count": null,
      "outputs": []
    }
  ]
}